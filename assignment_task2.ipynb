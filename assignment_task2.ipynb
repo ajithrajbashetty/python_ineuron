{
 "cells": [
  {
   "cell_type": "markdown",
   "metadata": {},
   "source": [
    "# 1.\n",
    "Write a program which accepts a sequence of comma-separated numbers from console and\n",
    "generate a list.\n"
   ]
  },
  {
   "cell_type": "code",
   "execution_count": 3,
   "metadata": {},
   "outputs": [
    {
     "name": "stdout",
     "output_type": "stream",
     "text": [
      "Enter some comma-separated values:1231,1312312,1312312,131231,131313\n"
     ]
    },
    {
     "data": {
      "text/plain": [
       "['1231', '1312312', '1312312', '131231', '131313']"
      ]
     },
     "execution_count": 3,
     "metadata": {},
     "output_type": "execute_result"
    }
   ],
   "source": [
    "a=input('Enter some comma-separated values:')\n",
    "a.split(',')"
   ]
  },
  {
   "cell_type": "markdown",
   "metadata": {},
   "source": [
    "# 2.\n",
    "Create the below pattern using nested for loop in Python.\n",
    "*\n",
    "* *\n",
    "* * *\n",
    "* * * *\n",
    "* * * * *\n",
    "* * * *\n",
    "* * *\n",
    "* *\n",
    "*\n"
   ]
  },
  {
   "cell_type": "code",
   "execution_count": 62,
   "metadata": {},
   "outputs": [
    {
     "name": "stdout",
     "output_type": "stream",
     "text": [
      "\n",
      "* \n",
      "* * \n",
      "* * * \n",
      "* * * * \n",
      "* * * * * \n",
      "* * * * \n",
      "* * * \n",
      "* * \n",
      "* \n"
     ]
    }
   ],
   "source": [
    "n=5; \n",
    "# TOP Pattern\n",
    "for i in range(0,n): #top pattern\n",
    "    for i in range(0,i):\n",
    "        print ('* ', end=\"\")\n",
    "    print('')\n",
    "for i in range(n,0,-1):#bottom pattern\n",
    "    for j in range(0,i):\n",
    "        print('* ', end=\"\")\n",
    "    print('')"
   ]
  },
  {
   "cell_type": "markdown",
   "metadata": {},
   "source": []
  },
  {
   "cell_type": "code",
   "execution_count": null,
   "metadata": {},
   "outputs": [],
   "source": []
  },
  {
   "cell_type": "markdown",
   "metadata": {},
   "source": [
    "# 3.Write a Python program to reverse a word after accepting the input from the user.\n",
    "Sample Output:\n",
    "Input word: AcadGild\n",
    "Output: dilGdacA"
   ]
  },
  {
   "cell_type": "code",
   "execution_count": 46,
   "metadata": {},
   "outputs": [
    {
     "name": "stdout",
     "output_type": "stream",
     "text": [
      "Type any word for reversal:AcadGild\n"
     ]
    }
   ],
   "source": [
    "r=input('Type any word for reversal:')\n"
   ]
  },
  {
   "cell_type": "code",
   "execution_count": 47,
   "metadata": {},
   "outputs": [
    {
     "data": {
      "text/plain": [
       "'dliGdacA'"
      ]
     },
     "execution_count": 47,
     "metadata": {},
     "output_type": "execute_result"
    }
   ],
   "source": [
    " r[::-1]"
   ]
  },
  {
   "cell_type": "markdown",
   "metadata": {},
   "source": [
    "# 4.\n",
    "Write a Python Program to print the given string in the format specified in the sample output.\n",
    "WE, THE PEOPLE OF INDIA, having solemnly resolved to constitute India into a\n",
    "SOVEREIGN, SOCIALIST, SECULAR, DEMOCRATIC REPUBLIC and to secure to all\n",
    "its citizens"
   ]
  },
  {
   "cell_type": "code",
   "execution_count": 61,
   "metadata": {},
   "outputs": [
    {
     "name": "stdout",
     "output_type": "stream",
     "text": [
      "WE, THE PEOPLE OF INDIA,\n",
      " \thaving solemnly resolved to constitute India into a SOVEREIGN,!\n",
      "\t\tSOCIALIST, SECULAR, DEMOCRATIC REPUBLIC \n",
      "\t\tand to secure to all its citizens\n"
     ]
    }
   ],
   "source": [
    "a='WE, THE PEOPLE OF INDIA,\\n \\thaving solemnly resolved to constitute India into a SOVEREIGN,\\n\\t\\tSOCIALIST, SECULAR, DEMOCRATIC REPUBLIC \\n\\t\\tand to secure to all its citizens'\n",
    "a=a.replace('SOVEREIGN,','SOVEREIGN,!')\n",
    "print(a)"
   ]
  },
  {
   "cell_type": "code",
   "execution_count": null,
   "metadata": {},
   "outputs": [],
   "source": []
  }
 ],
 "metadata": {
  "kernelspec": {
   "display_name": "Python 3",
   "language": "python",
   "name": "python3"
  },
  "language_info": {
   "codemirror_mode": {
    "name": "ipython",
    "version": 3
   },
   "file_extension": ".py",
   "mimetype": "text/x-python",
   "name": "python",
   "nbconvert_exporter": "python",
   "pygments_lexer": "ipython3",
   "version": "3.7.6"
  }
 },
 "nbformat": 4,
 "nbformat_minor": 4
}
